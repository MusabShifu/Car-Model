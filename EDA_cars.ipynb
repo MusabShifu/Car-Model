{
 "cells": [
  {
   "cell_type": "code",
   "execution_count": 164,
   "id": "19defa33",
   "metadata": {},
   "outputs": [],
   "source": [
    "import numpy as np\n",
    "import pandas as pd\n",
    "import matplotlib.pyplot as plt\n",
    "import seaborn as sns"
   ]
  },
  {
   "cell_type": "code",
   "execution_count": 165,
   "id": "29143851",
   "metadata": {},
   "outputs": [
    {
     "data": {
      "text/html": [
       "<div>\n",
       "<style scoped>\n",
       "    .dataframe tbody tr th:only-of-type {\n",
       "        vertical-align: middle;\n",
       "    }\n",
       "\n",
       "    .dataframe tbody tr th {\n",
       "        vertical-align: top;\n",
       "    }\n",
       "\n",
       "    .dataframe thead th {\n",
       "        text-align: right;\n",
       "    }\n",
       "</style>\n",
       "<table border=\"1\" class=\"dataframe\">\n",
       "  <thead>\n",
       "    <tr style=\"text-align: right;\">\n",
       "      <th></th>\n",
       "      <th>name</th>\n",
       "      <th>company</th>\n",
       "      <th>year</th>\n",
       "      <th>Price</th>\n",
       "      <th>kms_driven</th>\n",
       "      <th>fuel_type</th>\n",
       "    </tr>\n",
       "  </thead>\n",
       "  <tbody>\n",
       "    <tr>\n",
       "      <th>0</th>\n",
       "      <td>Hyundai Santro Xing XO eRLX Euro III</td>\n",
       "      <td>Hyundai</td>\n",
       "      <td>2007</td>\n",
       "      <td>80,000</td>\n",
       "      <td>45,000 kms</td>\n",
       "      <td>Petrol</td>\n",
       "    </tr>\n",
       "    <tr>\n",
       "      <th>1</th>\n",
       "      <td>Mahindra Jeep CL550 MDI</td>\n",
       "      <td>Mahindra</td>\n",
       "      <td>2006</td>\n",
       "      <td>4,25,000</td>\n",
       "      <td>40 kms</td>\n",
       "      <td>Diesel</td>\n",
       "    </tr>\n",
       "    <tr>\n",
       "      <th>2</th>\n",
       "      <td>Maruti Suzuki Alto 800 Vxi</td>\n",
       "      <td>Maruti</td>\n",
       "      <td>2018</td>\n",
       "      <td>Ask For Price</td>\n",
       "      <td>22,000 kms</td>\n",
       "      <td>Petrol</td>\n",
       "    </tr>\n",
       "    <tr>\n",
       "      <th>3</th>\n",
       "      <td>Hyundai Grand i10 Magna 1.2 Kappa VTVT</td>\n",
       "      <td>Hyundai</td>\n",
       "      <td>2014</td>\n",
       "      <td>3,25,000</td>\n",
       "      <td>28,000 kms</td>\n",
       "      <td>Petrol</td>\n",
       "    </tr>\n",
       "    <tr>\n",
       "      <th>4</th>\n",
       "      <td>Ford EcoSport Titanium 1.5L TDCi</td>\n",
       "      <td>Ford</td>\n",
       "      <td>2014</td>\n",
       "      <td>5,75,000</td>\n",
       "      <td>36,000 kms</td>\n",
       "      <td>Diesel</td>\n",
       "    </tr>\n",
       "  </tbody>\n",
       "</table>\n",
       "</div>"
      ],
      "text/plain": [
       "                                     name   company  year          Price  \\\n",
       "0    Hyundai Santro Xing XO eRLX Euro III   Hyundai  2007         80,000   \n",
       "1                 Mahindra Jeep CL550 MDI  Mahindra  2006       4,25,000   \n",
       "2              Maruti Suzuki Alto 800 Vxi    Maruti  2018  Ask For Price   \n",
       "3  Hyundai Grand i10 Magna 1.2 Kappa VTVT   Hyundai  2014       3,25,000   \n",
       "4        Ford EcoSport Titanium 1.5L TDCi      Ford  2014       5,75,000   \n",
       "\n",
       "   kms_driven fuel_type  \n",
       "0  45,000 kms    Petrol  \n",
       "1      40 kms    Diesel  \n",
       "2  22,000 kms    Petrol  \n",
       "3  28,000 kms    Petrol  \n",
       "4  36,000 kms    Diesel  "
      ]
     },
     "execution_count": 165,
     "metadata": {},
     "output_type": "execute_result"
    }
   ],
   "source": [
    "df = pd.read_csv('quikr_car.csv')\n",
    "df.head()"
   ]
  },
  {
   "cell_type": "code",
   "execution_count": 166,
   "id": "76452ea0",
   "metadata": {},
   "outputs": [
    {
     "name": "stdout",
     "output_type": "stream",
     "text": [
      "<class 'pandas.core.frame.DataFrame'>\n",
      "RangeIndex: 892 entries, 0 to 891\n",
      "Data columns (total 6 columns):\n",
      " #   Column      Non-Null Count  Dtype \n",
      "---  ------      --------------  ----- \n",
      " 0   name        892 non-null    object\n",
      " 1   company     892 non-null    object\n",
      " 2   year        892 non-null    object\n",
      " 3   Price       892 non-null    object\n",
      " 4   kms_driven  840 non-null    object\n",
      " 5   fuel_type   837 non-null    object\n",
      "dtypes: object(6)\n",
      "memory usage: 21.0+ KB\n"
     ]
    }
   ],
   "source": [
    "df.info()"
   ]
  },
  {
   "cell_type": "markdown",
   "id": "86f542f1",
   "metadata": {},
   "source": [
    "# Data Cleaning\n",
    "#### year is object !"
   ]
  },
  {
   "cell_type": "code",
   "execution_count": 167,
   "id": "61713f40",
   "metadata": {},
   "outputs": [
    {
     "data": {
      "text/plain": [
       "array(['2007', '2006', '2018', '2014', '2015', '2012', '2013', '2016',\n",
       "       '2010', '2017', '2008', '2011', '2019', '2009', '2005', '2000',\n",
       "       '...', '150k', 'TOUR', '2003', 'r 15', '2004', 'Zest', '/-Rs',\n",
       "       'sale', '1995', 'ara)', '2002', 'SELL', '2001', 'tion', 'odel',\n",
       "       '2 bs', 'arry', 'Eon', 'o...', 'ture', 'emi', 'car', 'able', 'no.',\n",
       "       'd...', 'SALE', 'digo', 'sell', 'd Ex', 'n...', 'e...', 'D...',\n",
       "       ', Ac', 'go .', 'k...', 'o c4', 'zire', 'cent', 'Sumo', 'cab',\n",
       "       't xe', 'EV2', 'r...', 'zest'], dtype=object)"
      ]
     },
     "execution_count": 167,
     "metadata": {},
     "output_type": "execute_result"
    }
   ],
   "source": [
    "df.year.unique()"
   ]
  },
  {
   "cell_type": "code",
   "execution_count": 168,
   "id": "c04d6ed9",
   "metadata": {},
   "outputs": [
    {
     "data": {
      "text/plain": [
       "array([2007, 2006, 2018, 2014, 2015, 2012, 2013, 2016, 2010, 2017, 2008,\n",
       "       2011, 2019, 2009, 2005, 2000, 2003, 2004, 1995, 2002, 2001])"
      ]
     },
     "execution_count": 168,
     "metadata": {},
     "output_type": "execute_result"
    }
   ],
   "source": [
    "df = df[df.year.str.isnumeric()]\n",
    "df.year = df.year.astype(int)\n",
    "df.year.unique()"
   ]
  },
  {
   "cell_type": "markdown",
   "id": "31463d0f",
   "metadata": {},
   "source": [
    "### price is object , numbers seperated by , and have non int values"
   ]
  },
  {
   "cell_type": "code",
   "execution_count": 169,
   "id": "c2fa3faf",
   "metadata": {},
   "outputs": [
    {
     "data": {
      "text/plain": [
       "array(['80,000', '4,25,000', 'Ask For Price', '3,25,000', '5,75,000',\n",
       "       '1,75,000', '1,90,000', '8,30,000', '2,50,000', '1,82,000',\n",
       "       '3,15,000', '4,15,000', '3,20,000', '10,00,000', '5,00,000',\n",
       "       '3,50,000', '1,60,000', '3,10,000', '75,000', '1,00,000',\n",
       "       '2,90,000', '95,000', '1,80,000', '3,85,000', '1,05,000',\n",
       "       '6,50,000', '6,89,999', '4,48,000', '5,49,000', '5,01,000',\n",
       "       '4,89,999', '2,80,000', '3,49,999', '2,84,999', '3,45,000',\n",
       "       '4,99,999', '2,35,000', '2,49,999', '14,75,000', '3,95,000',\n",
       "       '2,20,000', '1,70,000', '85,000', '2,00,000', '5,70,000',\n",
       "       '1,10,000', '4,48,999', '18,91,111', '1,59,500', '3,44,999',\n",
       "       '4,49,999', '8,65,000', '6,99,000', '3,75,000', '2,24,999',\n",
       "       '12,00,000', '1,95,000', '3,51,000', '2,40,000', '90,000',\n",
       "       '1,55,000', '6,00,000', '1,89,500', '2,10,000', '3,90,000',\n",
       "       '1,35,000', '16,00,000', '7,01,000', '2,65,000', '5,25,000',\n",
       "       '3,72,000', '6,35,000', '5,50,000', '4,85,000', '3,29,500',\n",
       "       '2,51,111', '5,69,999', '69,999', '2,99,999', '3,99,999',\n",
       "       '4,50,000', '2,70,000', '1,58,400', '1,79,000', '1,25,000',\n",
       "       '2,99,000', '1,50,000', '2,75,000', '2,85,000', '3,40,000',\n",
       "       '70,000', '2,89,999', '8,49,999', '7,49,999', '2,74,999',\n",
       "       '9,84,999', '5,99,999', '2,44,999', '4,74,999', '2,45,000',\n",
       "       '1,69,500', '3,70,000', '1,68,000', '1,45,000', '98,500',\n",
       "       '2,09,000', '1,85,000', '9,00,000', '6,99,999', '1,99,999',\n",
       "       '5,44,999', '1,99,000', '5,40,000', '49,000', '7,00,000', '55,000',\n",
       "       '8,95,000', '3,55,000', '5,65,000', '3,65,000', '40,000',\n",
       "       '4,00,000', '3,30,000', '5,80,000', '3,79,000', '2,19,000',\n",
       "       '5,19,000', '7,30,000', '20,00,000', '21,00,000', '14,00,000',\n",
       "       '3,11,000', '8,55,000', '5,35,000', '1,78,000', '3,00,000',\n",
       "       '2,55,000', '5,49,999', '3,80,000', '57,000', '4,10,000',\n",
       "       '2,25,000', '1,20,000', '59,000', '5,99,000', '6,75,000', '72,500',\n",
       "       '6,10,000', '2,30,000', '5,20,000', '5,24,999', '4,24,999',\n",
       "       '6,44,999', '5,84,999', '7,99,999', '4,44,999', '6,49,999',\n",
       "       '9,44,999', '5,74,999', '3,74,999', '1,30,000', '4,01,000',\n",
       "       '13,50,000', '1,74,999', '2,39,999', '99,999', '3,24,999',\n",
       "       '10,74,999', '11,30,000', '1,49,000', '7,70,000', '30,000',\n",
       "       '3,35,000', '3,99,000', '65,000', '1,69,999', '1,65,000',\n",
       "       '5,60,000', '9,50,000', '7,15,000', '45,000', '9,40,000',\n",
       "       '1,55,555', '15,00,000', '4,95,000', '8,00,000', '12,99,000',\n",
       "       '5,30,000', '14,99,000', '32,000', '4,05,000', '7,60,000',\n",
       "       '7,50,000', '4,19,000', '1,40,000', '15,40,000', '1,23,000',\n",
       "       '4,98,000', '4,80,000', '4,88,000', '15,25,000', '5,48,900',\n",
       "       '7,25,000', '99,000', '52,000', '28,00,000', '4,99,000',\n",
       "       '3,81,000', '2,78,000', '6,90,000', '2,60,000', '90,001',\n",
       "       '1,15,000', '15,99,000', '1,59,000', '51,999', '2,15,000',\n",
       "       '35,000', '11,50,000', '2,69,000', '60,000', '4,30,000',\n",
       "       '85,00,003', '4,01,919', '4,90,000', '4,24,000', '2,05,000',\n",
       "       '5,49,900', '4,35,000', '1,89,700', '3,89,700', '3,60,000',\n",
       "       '2,95,000', '1,14,990', '10,65,000', '4,70,000', '48,000',\n",
       "       '1,88,000', '4,65,000', '1,79,999', '21,90,000', '23,90,000',\n",
       "       '10,75,000', '4,75,000', '10,25,000', '6,15,000', '19,00,000',\n",
       "       '14,90,000', '15,10,000', '18,50,000', '7,90,000', '17,25,000',\n",
       "       '12,25,000', '68,000', '9,70,000', '31,00,000', '8,99,000',\n",
       "       '88,000', '53,000', '5,68,500', '71,000', '5,90,000', '7,95,000',\n",
       "       '42,000', '1,89,000', '1,62,000', '35,999', '29,00,000', '39,999',\n",
       "       '50,500', '5,10,000', '8,60,000', '5,00,001'], dtype=object)"
      ]
     },
     "execution_count": 169,
     "metadata": {},
     "output_type": "execute_result"
    }
   ],
   "source": [
    "df.Price.unique()"
   ]
  },
  {
   "cell_type": "code",
   "execution_count": 170,
   "id": "7657a41b",
   "metadata": {},
   "outputs": [
    {
     "data": {
      "text/plain": [
       "array([  80000.,  425000.,  325000.,  575000.,  175000.,  190000.,\n",
       "        830000.,  250000.,  182000.,  315000.,  415000.,  320000.,\n",
       "       1000000.,  500000.,  350000.,  160000.,  310000.,   75000.,\n",
       "        100000.,  290000.,   95000.,  180000.,  385000.,  105000.,\n",
       "        650000.,  689999.,  448000.,  549000.,  501000.,  489999.,\n",
       "        280000.,  349999.,  284999.,  345000.,  499999.,  235000.,\n",
       "        249999., 1475000.,  395000.,  220000.,  170000.,   85000.,\n",
       "        200000.,  570000.,  110000.,  448999., 1891111.,  159500.,\n",
       "        344999.,  449999.,  865000.,  699000.,  375000.,  224999.,\n",
       "       1200000.,  195000.,  351000.,  240000.,   90000.,  155000.,\n",
       "        600000.,  189500.,  210000.,  390000.,  135000., 1600000.,\n",
       "        701000.,  265000.,  525000.,  372000.,  635000.,  550000.,\n",
       "        485000.,  329500.,  251111.,  569999.,   69999.,  299999.,\n",
       "        399999.,  450000.,  270000.,  158400.,  179000.,  125000.,\n",
       "        299000.,  150000.,  275000.,  285000.,  340000.,   70000.,\n",
       "        289999.,  849999.,  749999.,  274999.,  984999.,  599999.,\n",
       "        244999.,  474999.,  245000.,  169500.,  370000.,  168000.,\n",
       "        145000.,   98500.,  209000.,  185000.,  900000.,  699999.,\n",
       "        199999.,  544999.,  199000.,  540000.,   49000.,  700000.,\n",
       "         55000.,  895000.,  355000.,  565000.,  365000.,   40000.,\n",
       "        400000.,  330000.,  580000.,  379000.,  219000.,  519000.,\n",
       "        730000., 2000000., 2100000., 1400000.,  311000.,  855000.,\n",
       "        535000.,  178000.,  300000.,  255000.,  549999.,  380000.,\n",
       "         57000.,  410000.,  225000.,  120000.,   59000.,  599000.,\n",
       "        675000.,   72500.,  610000.,  230000.,  520000.,  524999.,\n",
       "        424999.,  644999.,  584999.,  799999.,  444999.,  649999.,\n",
       "        944999.,  574999.,  374999.,  130000.,  401000., 1350000.,\n",
       "        174999.,  239999.,   99999.,  324999., 1074999., 1130000.,\n",
       "        149000.,  770000.,   30000.,  335000.,  399000.,   65000.,\n",
       "        169999.,  165000.,  560000.,  950000.,  715000.,   45000.,\n",
       "        940000.,  155555., 1500000.,  495000.,  800000., 1299000.,\n",
       "        530000., 1499000.,   32000.,  405000.,  760000.,  750000.,\n",
       "        419000.,  140000., 1540000.,  123000.,  498000.,  480000.,\n",
       "        488000., 1525000.,  548900.,  725000.,   99000.,   52000.,\n",
       "       2800000.,  499000.,  381000.,  278000.,  690000.,  260000.,\n",
       "         90001.,  115000., 1599000.,  159000.,   51999.,  215000.,\n",
       "         35000., 1150000.,  269000.,   60000.,  430000., 8500003.,\n",
       "        401919.,  490000.,  424000.,  205000.,  549900.,  435000.,\n",
       "        189700.,  389700.,  360000.,  295000.,  114990., 1065000.,\n",
       "        470000.,   48000.,  188000.,  465000.,  179999., 2190000.,\n",
       "       2390000., 1075000.,  475000., 1025000.,  615000., 1900000.,\n",
       "       1490000., 1510000., 1850000.,  790000., 1725000., 1225000.,\n",
       "         68000.,  970000., 3100000.,  899000.,   88000.,   53000.,\n",
       "        568500.,   71000.,  590000.,  795000.,   42000.,  189000.,\n",
       "        162000.,   35999., 2900000.,   39999.,   50500.,  510000.,\n",
       "        860000.,  500001.])"
      ]
     },
     "execution_count": 170,
     "metadata": {},
     "output_type": "execute_result"
    }
   ],
   "source": [
    "df = df[df.Price.str.replace(\",\" , \"\").str.isnumeric()]\n",
    "df.Price = df.Price.str.replace(\",\", \"\").astype(float)\n",
    "df.Price.unique()"
   ]
  },
  {
   "cell_type": "markdown",
   "id": "052a7ae6",
   "metadata": {},
   "source": [
    "### kms_driven is object"
   ]
  },
  {
   "cell_type": "code",
   "execution_count": 171,
   "id": "c83568c1",
   "metadata": {},
   "outputs": [
    {
     "data": {
      "text/plain": [
       "array(['45,000 kms', '40 kms', '28,000 kms', '36,000 kms', '41,000 kms',\n",
       "       '25,000 kms', '24,530 kms', '60,000 kms', '30,000 kms',\n",
       "       '32,000 kms', '48,660 kms', '4,000 kms', '16,934 kms',\n",
       "       '43,000 kms', '35,550 kms', '39,522 kms', '39,000 kms',\n",
       "       '55,000 kms', '72,000 kms', '15,975 kms', '70,000 kms',\n",
       "       '23,452 kms', '35,522 kms', '48,508 kms', '15,487 kms',\n",
       "       '82,000 kms', '20,000 kms', '68,000 kms', '38,000 kms',\n",
       "       '27,000 kms', '33,000 kms', '46,000 kms', '16,000 kms',\n",
       "       '47,000 kms', '35,000 kms', '30,874 kms', '15,000 kms',\n",
       "       '29,685 kms', '1,30,000 kms', '19,000 kms', '54,000 kms',\n",
       "       '13,000 kms', '38,200 kms', '22,000 kms', '50,000 kms',\n",
       "       '13,500 kms', '3,600 kms', '45,863 kms', '60,500 kms',\n",
       "       '12,500 kms', '18,000 kms', '13,349 kms', '29,000 kms',\n",
       "       '44,000 kms', '42,000 kms', '14,000 kms', '49,000 kms',\n",
       "       '36,200 kms', '51,000 kms', '1,04,000 kms', '33,333 kms',\n",
       "       '33,600 kms', '5,600 kms', '7,500 kms', '26,000 kms', '24,330 kms',\n",
       "       '65,480 kms', '2,00,000 kms', '59,000 kms', '99,000 kms',\n",
       "       '2,800 kms', '21,000 kms', '11,000 kms', '66,000 kms', '3,000 kms',\n",
       "       '7,000 kms', '38,500 kms', '37,200 kms', '43,200 kms',\n",
       "       '24,800 kms', '45,872 kms', '40,000 kms', '11,400 kms',\n",
       "       '97,200 kms', '52,000 kms', '31,000 kms', '1,75,430 kms',\n",
       "       '37,000 kms', '65,000 kms', '3,350 kms', '75,000 kms',\n",
       "       '62,000 kms', '73,000 kms', '2,200 kms', '54,870 kms',\n",
       "       '34,580 kms', '97,000 kms', '60 kms', '80,200 kms', '3,200 kms',\n",
       "       '0,000 kms', '5,000 kms', '588 kms', '71,200 kms', '1,75,400 kms',\n",
       "       '9,300 kms', '56,758 kms', '10,000 kms', '56,450 kms',\n",
       "       '56,000 kms', '32,700 kms', '9,000 kms', '73 kms', '1,60,000 kms',\n",
       "       '58,559 kms', '57,000 kms', '1,70,000 kms', '80,000 kms',\n",
       "       '6,821 kms', '23,000 kms', '34,000 kms', '1,800 kms',\n",
       "       '4,00,000 kms', '48,000 kms', '90,000 kms', '12,000 kms',\n",
       "       '69,900 kms', '1,66,000 kms', '122 kms', '0 kms', '36,469 kms',\n",
       "       '7,800 kms', '24,695 kms', '15,141 kms', '59,910 kms',\n",
       "       '1,00,000 kms', '4,500 kms', '1,29,000 kms', '300 kms',\n",
       "       '1,31,000 kms', '1,11,111 kms', '59,466 kms', '25,500 kms',\n",
       "       '44,005 kms', '2,110 kms', '43,222 kms', '1,00,200 kms', '65 kms',\n",
       "       '1,40,000 kms', '1,03,553 kms', '58,000 kms', '1,20,000 kms',\n",
       "       '49,800 kms', '100 kms', '81,876 kms', '6,020 kms', '55,700 kms',\n",
       "       '18,500 kms', '53,000 kms', '35,500 kms', '22,134 kms',\n",
       "       '1,000 kms', '8,500 kms', '87,000 kms', '6,000 kms', '8,000 kms',\n",
       "       '55,800 kms', '56,400 kms', '72,160 kms', '11,500 kms',\n",
       "       '1,33,000 kms', '2,000 kms', '88,000 kms', '65,422 kms',\n",
       "       '1,17,000 kms', '1,50,000 kms', '10,750 kms', '6,800 kms',\n",
       "       '9,800 kms', '57,923 kms', '30,201 kms', '6,200 kms', '37,518 kms',\n",
       "       '24,652 kms', '383 kms', '95,000 kms', '3,528 kms', '52,500 kms',\n",
       "       '47,900 kms', '52,800 kms', '1,95,000 kms', '48,008 kms',\n",
       "       '48,247 kms', '9,400 kms', '64,000 kms', '2,137 kms', '10,544 kms',\n",
       "       '1,47,000 kms', '90,001 kms', '48,006 kms', '74,000 kms',\n",
       "       '85,000 kms', '29,500 kms', '39,700 kms', '67,000 kms',\n",
       "       '19,336 kms', '60,105 kms', '45,933 kms', '1,02,563 kms',\n",
       "       '28,600 kms', '41,800 kms', '1,16,000 kms', '42,590 kms',\n",
       "       '7,400 kms', '54,500 kms', '76,000 kms', '00 kms', '11,523 kms',\n",
       "       '38,600 kms', '95,500 kms', '37,458 kms', '85,960 kms',\n",
       "       '12,516 kms', '30,600 kms', '2,550 kms', '62,500 kms',\n",
       "       '69,000 kms', '28,400 kms', '68,485 kms', '3,500 kms',\n",
       "       '85,455 kms', '63,000 kms', '1,600 kms', '77,000 kms',\n",
       "       '26,500 kms', '2,875 kms', '13,900 kms', '1,500 kms', '2,450 kms',\n",
       "       '1,625 kms', '33,400 kms', '60,123 kms', '1,37,495 kms',\n",
       "       '91,200 kms', '1,46,000 kms', '1,00,800 kms', '2,100 kms',\n",
       "       '2,500 kms', '1,32,000 kms', 'Petrol'], dtype=object)"
      ]
     },
     "execution_count": 171,
     "metadata": {},
     "output_type": "execute_result"
    }
   ],
   "source": [
    "df.kms_driven.unique()"
   ]
  },
  {
   "cell_type": "code",
   "execution_count": 172,
   "id": "343cc074",
   "metadata": {},
   "outputs": [
    {
     "data": {
      "text/plain": [
       "array([4.50000e+04, 4.00000e+01, 2.80000e+04, 3.60000e+04, 4.10000e+04,\n",
       "       2.50000e+04, 2.45300e+04, 6.00000e+04, 3.00000e+04, 3.20000e+04,\n",
       "       4.86600e+04, 4.00000e+03, 1.69340e+04, 4.30000e+04, 3.55500e+04,\n",
       "       3.95220e+04, 3.90000e+04, 5.50000e+04, 7.20000e+04, 1.59750e+04,\n",
       "       7.00000e+04, 2.34520e+04, 3.55220e+04, 4.85080e+04, 1.54870e+04,\n",
       "       8.20000e+04, 2.00000e+04, 6.80000e+04, 3.80000e+04, 2.70000e+04,\n",
       "       3.30000e+04, 4.60000e+04, 1.60000e+04, 4.70000e+04, 3.50000e+04,\n",
       "       3.08740e+04, 1.50000e+04, 2.96850e+04, 1.30000e+05, 1.90000e+04,\n",
       "       5.40000e+04, 1.30000e+04, 3.82000e+04, 2.20000e+04, 5.00000e+04,\n",
       "       1.35000e+04, 3.60000e+03, 4.58630e+04, 6.05000e+04, 1.25000e+04,\n",
       "       1.80000e+04, 1.33490e+04, 2.90000e+04, 4.40000e+04, 4.20000e+04,\n",
       "       1.40000e+04, 4.90000e+04, 3.62000e+04, 5.10000e+04, 1.04000e+05,\n",
       "       3.33330e+04, 3.36000e+04, 5.60000e+03, 7.50000e+03, 2.60000e+04,\n",
       "       2.43300e+04, 6.54800e+04, 2.00000e+05, 5.90000e+04, 9.90000e+04,\n",
       "       2.80000e+03, 2.10000e+04, 1.10000e+04, 6.60000e+04, 3.00000e+03,\n",
       "       7.00000e+03, 3.85000e+04, 3.72000e+04, 4.32000e+04, 2.48000e+04,\n",
       "       4.58720e+04, 4.00000e+04, 1.14000e+04, 9.72000e+04, 5.20000e+04,\n",
       "       3.10000e+04, 1.75430e+05, 3.70000e+04, 6.50000e+04, 3.35000e+03,\n",
       "       7.50000e+04, 6.20000e+04, 7.30000e+04, 2.20000e+03, 5.48700e+04,\n",
       "       3.45800e+04, 9.70000e+04, 6.00000e+01, 8.02000e+04, 3.20000e+03,\n",
       "       0.00000e+00, 5.00000e+03, 5.88000e+02, 7.12000e+04, 1.75400e+05,\n",
       "       9.30000e+03, 5.67580e+04, 1.00000e+04, 5.64500e+04, 5.60000e+04,\n",
       "       3.27000e+04, 9.00000e+03, 7.30000e+01, 1.60000e+05, 5.85590e+04,\n",
       "       5.70000e+04, 1.70000e+05, 8.00000e+04, 6.82100e+03, 2.30000e+04,\n",
       "       3.40000e+04, 1.80000e+03, 4.00000e+05, 4.80000e+04, 9.00000e+04,\n",
       "       1.20000e+04, 6.99000e+04, 1.66000e+05, 1.22000e+02, 3.64690e+04,\n",
       "       7.80000e+03, 2.46950e+04, 1.51410e+04, 5.99100e+04, 1.00000e+05,\n",
       "       4.50000e+03, 1.29000e+05, 3.00000e+02, 1.31000e+05, 1.11111e+05,\n",
       "       5.94660e+04, 2.55000e+04, 4.40050e+04, 2.11000e+03, 4.32220e+04,\n",
       "       1.00200e+05, 6.50000e+01, 1.40000e+05, 1.03553e+05, 5.80000e+04,\n",
       "       1.20000e+05, 4.98000e+04, 1.00000e+02, 8.18760e+04, 6.02000e+03,\n",
       "       5.57000e+04, 1.85000e+04, 5.30000e+04, 3.55000e+04, 2.21340e+04,\n",
       "       1.00000e+03, 8.50000e+03, 8.70000e+04, 6.00000e+03, 8.00000e+03,\n",
       "       5.58000e+04, 5.64000e+04, 7.21600e+04, 1.15000e+04, 1.33000e+05,\n",
       "       2.00000e+03, 8.80000e+04, 6.54220e+04, 1.17000e+05, 1.50000e+05,\n",
       "       1.07500e+04, 6.80000e+03, 9.80000e+03, 5.79230e+04, 3.02010e+04,\n",
       "       6.20000e+03, 3.75180e+04, 2.46520e+04, 3.83000e+02, 9.50000e+04,\n",
       "       3.52800e+03, 5.25000e+04, 4.79000e+04, 5.28000e+04, 1.95000e+05,\n",
       "       4.80080e+04, 4.82470e+04, 9.40000e+03, 6.40000e+04, 2.13700e+03,\n",
       "       1.05440e+04, 1.47000e+05, 9.00010e+04, 4.80060e+04, 7.40000e+04,\n",
       "       8.50000e+04, 2.95000e+04, 3.97000e+04, 6.70000e+04, 1.93360e+04,\n",
       "       6.01050e+04, 4.59330e+04, 1.02563e+05, 2.86000e+04, 4.18000e+04,\n",
       "       1.16000e+05, 4.25900e+04, 7.40000e+03, 5.45000e+04, 7.60000e+04,\n",
       "       1.15230e+04, 3.86000e+04, 9.55000e+04, 3.74580e+04, 8.59600e+04,\n",
       "       1.25160e+04, 3.06000e+04, 2.55000e+03, 6.25000e+04, 6.90000e+04,\n",
       "       2.84000e+04, 6.84850e+04, 3.50000e+03, 8.54550e+04, 6.30000e+04,\n",
       "       1.60000e+03, 7.70000e+04, 2.65000e+04, 2.87500e+03, 1.39000e+04,\n",
       "       1.50000e+03, 2.45000e+03, 1.62500e+03, 3.34000e+04, 6.01230e+04,\n",
       "       1.37495e+05, 9.12000e+04, 1.46000e+05, 1.00800e+05, 2.10000e+03,\n",
       "       2.50000e+03, 1.32000e+05])"
      ]
     },
     "execution_count": 172,
     "metadata": {},
     "output_type": "execute_result"
    }
   ],
   "source": [
    "df.kms_driven = df.kms_driven.str.replace(\",\",\"\").str.replace(\" kms\", \"\")\n",
    "df = df[df.kms_driven.str.isnumeric()]\n",
    "df.kms_driven = df.kms_driven.astype(float)\n",
    "df.kms_driven.unique()"
   ]
  },
  {
   "cell_type": "markdown",
   "id": "530ab50e",
   "metadata": {},
   "source": [
    "### fule type have empty value"
   ]
  },
  {
   "cell_type": "code",
   "execution_count": 173,
   "id": "1bbbc660",
   "metadata": {},
   "outputs": [
    {
     "data": {
      "text/plain": [
       "array(['Petrol', 'Diesel', nan, 'LPG'], dtype=object)"
      ]
     },
     "execution_count": 173,
     "metadata": {},
     "output_type": "execute_result"
    }
   ],
   "source": [
    "df.fuel_type.unique()"
   ]
  },
  {
   "cell_type": "code",
   "execution_count": 174,
   "id": "ee92addb",
   "metadata": {},
   "outputs": [
    {
     "data": {
      "text/plain": [
       "array(['Petrol', 'Diesel', 'LPG'], dtype=object)"
      ]
     },
     "execution_count": 174,
     "metadata": {},
     "output_type": "execute_result"
    }
   ],
   "source": [
    "df = df[~df.fuel_type.isna()]\n",
    "df.fuel_type.unique()"
   ]
  },
  {
   "cell_type": "markdown",
   "id": "da73bd6f",
   "metadata": {},
   "source": [
    "### show only 3 words in name"
   ]
  },
  {
   "cell_type": "code",
   "execution_count": 175,
   "id": "1f11c69c",
   "metadata": {},
   "outputs": [],
   "source": [
    "df.name =  df.name.str.split(\" \").str.slice(0,3).str.join(\" \")"
   ]
  },
  {
   "cell_type": "code",
   "execution_count": 178,
   "id": "1ac1d2f3",
   "metadata": {
    "scrolled": true
   },
   "outputs": [
    {
     "name": "stdout",
     "output_type": "stream",
     "text": [
      "<class 'pandas.core.frame.DataFrame'>\n",
      "Int64Index: 816 entries, 0 to 889\n",
      "Data columns (total 6 columns):\n",
      " #   Column      Non-Null Count  Dtype  \n",
      "---  ------      --------------  -----  \n",
      " 0   name        816 non-null    object \n",
      " 1   company     816 non-null    object \n",
      " 2   year        816 non-null    int32  \n",
      " 3   Price       816 non-null    float64\n",
      " 4   kms_driven  816 non-null    float64\n",
      " 5   fuel_type   816 non-null    object \n",
      "dtypes: float64(2), int32(1), object(3)\n",
      "memory usage: 31.9+ KB\n"
     ]
    }
   ],
   "source": [
    "df.info()"
   ]
  },
  {
   "cell_type": "code",
   "execution_count": 179,
   "id": "885e4ac8",
   "metadata": {},
   "outputs": [
    {
     "data": {
      "text/html": [
       "<div>\n",
       "<style scoped>\n",
       "    .dataframe tbody tr th:only-of-type {\n",
       "        vertical-align: middle;\n",
       "    }\n",
       "\n",
       "    .dataframe tbody tr th {\n",
       "        vertical-align: top;\n",
       "    }\n",
       "\n",
       "    .dataframe thead th {\n",
       "        text-align: right;\n",
       "    }\n",
       "</style>\n",
       "<table border=\"1\" class=\"dataframe\">\n",
       "  <thead>\n",
       "    <tr style=\"text-align: right;\">\n",
       "      <th></th>\n",
       "      <th>name</th>\n",
       "      <th>company</th>\n",
       "      <th>year</th>\n",
       "      <th>Price</th>\n",
       "      <th>kms_driven</th>\n",
       "      <th>fuel_type</th>\n",
       "    </tr>\n",
       "  </thead>\n",
       "  <tbody>\n",
       "    <tr>\n",
       "      <th>0</th>\n",
       "      <td>Hyundai Santro Xing</td>\n",
       "      <td>Hyundai</td>\n",
       "      <td>2007</td>\n",
       "      <td>80000.0</td>\n",
       "      <td>45000.0</td>\n",
       "      <td>Petrol</td>\n",
       "    </tr>\n",
       "    <tr>\n",
       "      <th>1</th>\n",
       "      <td>Mahindra Jeep CL550</td>\n",
       "      <td>Mahindra</td>\n",
       "      <td>2006</td>\n",
       "      <td>425000.0</td>\n",
       "      <td>40.0</td>\n",
       "      <td>Diesel</td>\n",
       "    </tr>\n",
       "    <tr>\n",
       "      <th>3</th>\n",
       "      <td>Hyundai Grand i10</td>\n",
       "      <td>Hyundai</td>\n",
       "      <td>2014</td>\n",
       "      <td>325000.0</td>\n",
       "      <td>28000.0</td>\n",
       "      <td>Petrol</td>\n",
       "    </tr>\n",
       "    <tr>\n",
       "      <th>4</th>\n",
       "      <td>Ford EcoSport Titanium</td>\n",
       "      <td>Ford</td>\n",
       "      <td>2014</td>\n",
       "      <td>575000.0</td>\n",
       "      <td>36000.0</td>\n",
       "      <td>Diesel</td>\n",
       "    </tr>\n",
       "    <tr>\n",
       "      <th>6</th>\n",
       "      <td>Ford Figo</td>\n",
       "      <td>Ford</td>\n",
       "      <td>2012</td>\n",
       "      <td>175000.0</td>\n",
       "      <td>41000.0</td>\n",
       "      <td>Diesel</td>\n",
       "    </tr>\n",
       "  </tbody>\n",
       "</table>\n",
       "</div>"
      ],
      "text/plain": [
       "                     name   company  year     Price  kms_driven fuel_type\n",
       "0     Hyundai Santro Xing   Hyundai  2007   80000.0     45000.0    Petrol\n",
       "1     Mahindra Jeep CL550  Mahindra  2006  425000.0        40.0    Diesel\n",
       "3       Hyundai Grand i10   Hyundai  2014  325000.0     28000.0    Petrol\n",
       "4  Ford EcoSport Titanium      Ford  2014  575000.0     36000.0    Diesel\n",
       "6               Ford Figo      Ford  2012  175000.0     41000.0    Diesel"
      ]
     },
     "execution_count": 179,
     "metadata": {},
     "output_type": "execute_result"
    }
   ],
   "source": [
    "df.head()"
   ]
  },
  {
   "cell_type": "code",
   "execution_count": 180,
   "id": "aa55d523",
   "metadata": {},
   "outputs": [
    {
     "data": {
      "text/html": [
       "<div>\n",
       "<style scoped>\n",
       "    .dataframe tbody tr th:only-of-type {\n",
       "        vertical-align: middle;\n",
       "    }\n",
       "\n",
       "    .dataframe tbody tr th {\n",
       "        vertical-align: top;\n",
       "    }\n",
       "\n",
       "    .dataframe thead th {\n",
       "        text-align: right;\n",
       "    }\n",
       "</style>\n",
       "<table border=\"1\" class=\"dataframe\">\n",
       "  <thead>\n",
       "    <tr style=\"text-align: right;\">\n",
       "      <th></th>\n",
       "      <th>year</th>\n",
       "      <th>Price</th>\n",
       "      <th>kms_driven</th>\n",
       "    </tr>\n",
       "  </thead>\n",
       "  <tbody>\n",
       "    <tr>\n",
       "      <th>count</th>\n",
       "      <td>816.000000</td>\n",
       "      <td>8.160000e+02</td>\n",
       "      <td>816.000000</td>\n",
       "    </tr>\n",
       "    <tr>\n",
       "      <th>mean</th>\n",
       "      <td>2012.444853</td>\n",
       "      <td>4.117176e+05</td>\n",
       "      <td>46275.531863</td>\n",
       "    </tr>\n",
       "    <tr>\n",
       "      <th>std</th>\n",
       "      <td>4.002992</td>\n",
       "      <td>4.751844e+05</td>\n",
       "      <td>34297.428044</td>\n",
       "    </tr>\n",
       "    <tr>\n",
       "      <th>min</th>\n",
       "      <td>1995.000000</td>\n",
       "      <td>3.000000e+04</td>\n",
       "      <td>0.000000</td>\n",
       "    </tr>\n",
       "    <tr>\n",
       "      <th>25%</th>\n",
       "      <td>2010.000000</td>\n",
       "      <td>1.750000e+05</td>\n",
       "      <td>27000.000000</td>\n",
       "    </tr>\n",
       "    <tr>\n",
       "      <th>50%</th>\n",
       "      <td>2013.000000</td>\n",
       "      <td>2.999990e+05</td>\n",
       "      <td>41000.000000</td>\n",
       "    </tr>\n",
       "    <tr>\n",
       "      <th>75%</th>\n",
       "      <td>2015.000000</td>\n",
       "      <td>4.912500e+05</td>\n",
       "      <td>56818.500000</td>\n",
       "    </tr>\n",
       "    <tr>\n",
       "      <th>max</th>\n",
       "      <td>2019.000000</td>\n",
       "      <td>8.500003e+06</td>\n",
       "      <td>400000.000000</td>\n",
       "    </tr>\n",
       "  </tbody>\n",
       "</table>\n",
       "</div>"
      ],
      "text/plain": [
       "              year         Price     kms_driven\n",
       "count   816.000000  8.160000e+02     816.000000\n",
       "mean   2012.444853  4.117176e+05   46275.531863\n",
       "std       4.002992  4.751844e+05   34297.428044\n",
       "min    1995.000000  3.000000e+04       0.000000\n",
       "25%    2010.000000  1.750000e+05   27000.000000\n",
       "50%    2013.000000  2.999990e+05   41000.000000\n",
       "75%    2015.000000  4.912500e+05   56818.500000\n",
       "max    2019.000000  8.500003e+06  400000.000000"
      ]
     },
     "execution_count": 180,
     "metadata": {},
     "output_type": "execute_result"
    }
   ],
   "source": [
    "df.describe()"
   ]
  },
  {
   "cell_type": "code",
   "execution_count": 181,
   "id": "c75fc91f",
   "metadata": {},
   "outputs": [
    {
     "data": {
      "image/png": "[encoded data removed]",
      "text/plain": [
       "<Figure size 432x288 with 1 Axes>"
      ]
     },
     "metadata": {
      "needs_background": "light"
     },
     "output_type": "display_data"
    }
   ],
   "source": [
    "sns.boxplot(data=df , y = \"Price\")\n",
    "plt.title(\"Boxplot showing price\")\n",
    "plt.show()"
   ]
  },
  {
   "cell_type": "code",
   "execution_count": 185,
   "id": "9aa48b61",
   "metadata": {},
   "outputs": [],
   "source": [
    "df = df[df.Price <6e6 ]"
   ]
  },
  {
   "cell_type": "code",
   "execution_count": 186,
   "id": "d13c66b1",
   "metadata": {},
   "outputs": [],
   "source": [
    "df.to_csv('cleaned_car.csv', index=False)"
   ]
  },
  {
   "cell_type": "markdown",
   "id": "22af69f0",
   "metadata": {},
   "source": [
    "# Visulaization"
   ]
  },
  {
   "cell_type": "code",
   "execution_count": 161,
   "id": "136940f3",
   "metadata": {},
   "outputs": [
    {
     "data": {
      "image/png": "[encoded data removed]",
      "text/plain": [
       "<Figure size 432x288 with 1 Axes>"
      ]
     },
     "metadata": {
      "needs_background": "light"
     },
     "output_type": "display_data"
    }
   ],
   "source": [
    "price_year = df.groupby('year')['Price'].mean()\n",
    "price_year.plot()\n",
    "plt.title(\"Average Price change over years\")\n",
    "plt.xlabel(\"Year\")\n",
    "plt.ylabel('Price')\n",
    "plt.show()"
   ]
  },
  {
   "cell_type": "code",
   "execution_count": 162,
   "id": "efd9d75c",
   "metadata": {},
   "outputs": [
    {
     "data": {
      "image/png": "[encoded data removed]",
      "text/plain": [
       "<Figure size 432x288 with 1 Axes>"
      ]
     },
     "metadata": {
      "needs_background": "light"
     },
     "output_type": "display_data"
    }
   ],
   "source": [
    "sns.scatterplot(data=df , x = 'kms_driven', y='Price')\n",
    "plt.title(\"kms driven vs price\")\n",
    "plt.show()"
   ]
  },
  {
   "cell_type": "code",
   "execution_count": 163,
   "id": "f8f5b1b6",
   "metadata": {},
   "outputs": [
    {
     "data": {
      "image/png": "[encoded data removed]",
      "text/plain": [
       "<Figure size 432x288 with 1 Axes>"
      ]
     },
     "metadata": {
      "needs_background": "light"
     },
     "output_type": "display_data"
    }
   ],
   "source": [
    "sns.boxplot(data=df , x='fuel_type' , y='Price')\n",
    "plt.title(\"price across different fuel types\")\n",
    "plt.show()"
   ]
  }
 ],
 "metadata": {
  "kernelspec": {
   "display_name": "Python 3 (ipykernel)",
   "language": "python",
   "name": "python3"
  },
  "language_info": {
   "codemirror_mode": {
    "name": "ipython",
    "version": 3
   },
   "file_extension": ".py",
   "mimetype": "text/x-python",
   "name": "python",
   "nbconvert_exporter": "python",
   "pygments_lexer": "ipython3",
   "version": "3.9.12"
  }
 },
 "nbformat": 4,
 "nbformat_minor": 5
}
