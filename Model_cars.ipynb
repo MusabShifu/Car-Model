{
 "cells": [
  {
   "cell_type": "code",
   "execution_count": 1,
   "id": "e2477352",
   "metadata": {},
   "outputs": [],
   "source": [
    "import numpy as np\n",
    "import pandas as pd\n",
    "import matplotlib.pyplot as plt\n",
    "import seaborn as sns"
   ]
  },
  {
   "cell_type": "code",
   "execution_count": 149,
   "id": "39a3d37f",
   "metadata": {},
   "outputs": [
    {
     "data": {
      "text/html": [
       "<div>\n",
       "<style scoped>\n",
       "    .dataframe tbody tr th:only-of-type {\n",
       "        vertical-align: middle;\n",
       "    }\n",
       "\n",
       "    .dataframe tbody tr th {\n",
       "        vertical-align: top;\n",
       "    }\n",
       "\n",
       "    .dataframe thead th {\n",
       "        text-align: right;\n",
       "    }\n",
       "</style>\n",
       "<table border=\"1\" class=\"dataframe\">\n",
       "  <thead>\n",
       "    <tr style=\"text-align: right;\">\n",
       "      <th></th>\n",
       "      <th>name</th>\n",
       "      <th>company</th>\n",
       "      <th>year</th>\n",
       "      <th>kms_driven</th>\n",
       "      <th>fuel_type</th>\n",
       "    </tr>\n",
       "  </thead>\n",
       "  <tbody>\n",
       "    <tr>\n",
       "      <th>0</th>\n",
       "      <td>Hyundai Santro Xing</td>\n",
       "      <td>Hyundai</td>\n",
       "      <td>2007</td>\n",
       "      <td>45000.0</td>\n",
       "      <td>Petrol</td>\n",
       "    </tr>\n",
       "    <tr>\n",
       "      <th>1</th>\n",
       "      <td>Mahindra Jeep CL550</td>\n",
       "      <td>Mahindra</td>\n",
       "      <td>2006</td>\n",
       "      <td>40.0</td>\n",
       "      <td>Diesel</td>\n",
       "    </tr>\n",
       "    <tr>\n",
       "      <th>2</th>\n",
       "      <td>Hyundai Grand i10</td>\n",
       "      <td>Hyundai</td>\n",
       "      <td>2014</td>\n",
       "      <td>28000.0</td>\n",
       "      <td>Petrol</td>\n",
       "    </tr>\n",
       "    <tr>\n",
       "      <th>3</th>\n",
       "      <td>Ford EcoSport Titanium</td>\n",
       "      <td>Ford</td>\n",
       "      <td>2014</td>\n",
       "      <td>36000.0</td>\n",
       "      <td>Diesel</td>\n",
       "    </tr>\n",
       "    <tr>\n",
       "      <th>4</th>\n",
       "      <td>Ford Figo</td>\n",
       "      <td>Ford</td>\n",
       "      <td>2012</td>\n",
       "      <td>41000.0</td>\n",
       "      <td>Diesel</td>\n",
       "    </tr>\n",
       "  </tbody>\n",
       "</table>\n",
       "</div>"
      ],
      "text/plain": [
       "                     name   company  year  kms_driven fuel_type\n",
       "0     Hyundai Santro Xing   Hyundai  2007     45000.0    Petrol\n",
       "1     Mahindra Jeep CL550  Mahindra  2006        40.0    Diesel\n",
       "2       Hyundai Grand i10   Hyundai  2014     28000.0    Petrol\n",
       "3  Ford EcoSport Titanium      Ford  2014     36000.0    Diesel\n",
       "4               Ford Figo      Ford  2012     41000.0    Diesel"
      ]
     },
     "execution_count": 149,
     "metadata": {},
     "output_type": "execute_result"
    }
   ],
   "source": [
    "df = pd.read_csv(\"Cleaned_car.csv\")\n",
    "X = df.drop(columns=['Price'])\n",
    "y = df.Price\n",
    "X.head()"
   ]
  },
  {
   "cell_type": "code",
   "execution_count": 90,
   "id": "0c06e1d0",
   "metadata": {},
   "outputs": [],
   "source": [
    "from sklearn.model_selection import train_test_split\n",
    "X_train , X_test , y_train,y_test = train_test_split(X,y,test_size=0.2, random_state=44)"
   ]
  },
  {
   "cell_type": "code",
   "execution_count": 107,
   "id": "2e8d6a71",
   "metadata": {},
   "outputs": [],
   "source": [
    "from sklearn.base import BaseEstimator , TransformerMixin\n",
    "from sklearn.preprocessing import StandardScaler , MinMaxScaler , MaxAbsScaler\n",
    "class Standard_Car(BaseEstimator, TransformerMixin):\n",
    "    def fit(self,X,y=None):\n",
    "        return self\n",
    "    def transform(self,X):\n",
    "        sc= StandardScaler()\n",
    "        X['kms_driven'] = sc.fit_transform(X[['kms_driven']])\n",
    "        return X"
   ]
  },
  {
   "cell_type": "code",
   "execution_count": 108,
   "id": "32d58fa9",
   "metadata": {},
   "outputs": [],
   "source": [
    "from sklearn.preprocessing import OneHotEncoder\n",
    "from sklearn.compose import make_column_transformer\n",
    "ohe = OneHotEncoder()\n",
    "from sklearn.pipeline import make_pipeline\n",
    "ohe.fit(X[[\"fuel_type\", \"company\",\"name\"]])\n",
    "col_trans = make_column_transformer((OneHotEncoder(categories=ohe.categories_) , \n",
    "               [\"fuel_type\", \"company\",\"name\"]), remainder=\"passthrough\"\n",
    "                                   )\n",
    "def get_model(model):\n",
    "    model = make_pipeline(Standard_Car(),col_trans, model)\n",
    "    model.fit(X_train, y_train)\n",
    "    train_score= model.score(X_train, y_train)\n",
    "    test_score = model.score(X_test,y_test)\n",
    "    return model, train_score, test_score"
   ]
  },
  {
   "cell_type": "markdown",
   "id": "d2b5556f",
   "metadata": {},
   "source": [
    "# LR model"
   ]
  },
  {
   "cell_type": "code",
   "execution_count": 109,
   "id": "869109a5",
   "metadata": {},
   "outputs": [
    {
     "data": {
      "text/plain": [
       "(0.9472407667684005, 0.7486253249899959)"
      ]
     },
     "execution_count": 109,
     "metadata": {},
     "output_type": "execute_result"
    }
   ],
   "source": [
    "from sklearn.linear_model import LinearRegression\n",
    "lr = get_model(LinearRegression())\n",
    "lr[1:]"
   ]
  },
  {
   "cell_type": "markdown",
   "id": "3b73d760",
   "metadata": {},
   "source": [
    "# RFR"
   ]
  },
  {
   "cell_type": "code",
   "execution_count": 111,
   "id": "83df5326",
   "metadata": {},
   "outputs": [
    {
     "data": {
      "text/plain": [
       "(0.946290596322971, 0.7387701549721004)"
      ]
     },
     "execution_count": 111,
     "metadata": {},
     "output_type": "execute_result"
    }
   ],
   "source": [
    "from sklearn.ensemble import RandomForestRegressor\n",
    "rfr = get_model(RandomForestRegressor(n_estimators=200))\n",
    "rfr[1:]"
   ]
  },
  {
   "cell_type": "markdown",
   "id": "562d19ca",
   "metadata": {},
   "source": [
    "# KNN"
   ]
  },
  {
   "cell_type": "code",
   "execution_count": 77,
   "id": "8f71b87c",
   "metadata": {},
   "outputs": [
    {
     "data": {
      "text/plain": [
       "(0.8006701832974726, 0.5239046480648049)"
      ]
     },
     "execution_count": 77,
     "metadata": {},
     "output_type": "execute_result"
    }
   ],
   "source": [
    "from sklearn.neighbors import KNeighborsRegressor\n",
    "knn = get_model(KNeighborsRegressor(n_neighbors=3))\n",
    "knn[1:]"
   ]
  },
  {
   "cell_type": "markdown",
   "id": "a2a878cf",
   "metadata": {},
   "source": [
    "# SVM"
   ]
  },
  {
   "cell_type": "code",
   "execution_count": 78,
   "id": "e8150647",
   "metadata": {},
   "outputs": [
    {
     "data": {
      "text/plain": [
       "(-0.07927946590959745, -0.05333980767215163)"
      ]
     },
     "execution_count": 78,
     "metadata": {},
     "output_type": "execute_result"
    }
   ],
   "source": [
    "from sklearn.svm import SVR\n",
    "svm = get_model(SVR(kernel='sigmoid'))\n",
    "svm[1:]"
   ]
  },
  {
   "cell_type": "code",
   "execution_count": 113,
   "id": "05d60c78",
   "metadata": {},
   "outputs": [],
   "source": [
    "import pickle as pkl\n",
    "pkl.dump(lr[0], open('model.pkl', 'wb'))"
   ]
  }
 ],
 "metadata": {
  "kernelspec": {
   "display_name": "Python 3 (ipykernel)",
   "language": "python",
   "name": "python3"
  },
  "language_info": {
   "codemirror_mode": {
    "name": "ipython",
    "version": 3
   },
   "file_extension": ".py",
   "mimetype": "text/x-python",
   "name": "python",
   "nbconvert_exporter": "python",
   "pygments_lexer": "ipython3",
   "version": "3.9.12"
  }
 },
 "nbformat": 4,
 "nbformat_minor": 5
}
